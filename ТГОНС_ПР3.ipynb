{
  "nbformat": 4,
  "nbformat_minor": 0,
  "metadata": {
    "colab": {
      "provenance": []
    },
    "kernelspec": {
      "name": "python3",
      "display_name": "Python 3"
    },
    "language_info": {
      "name": "python"
    }
  },
  "cells": [
    {
      "cell_type": "code",
      "execution_count": 13,
      "metadata": {
        "colab": {
          "base_uri": "https://localhost:8080/"
        },
        "id": "_j30CAvSees_",
        "outputId": "6f1207e3-0733-43ca-bc89-1de01aeafff4"
      },
      "outputs": [
        {
          "output_type": "stream",
          "name": "stdout",
          "text": [
            "Размер обучающей выборки: 54000\n",
            "Размер проверочной выборки: 6000\n",
            "Размер тестовой выборки: 10000\n",
            "Архитектура сети 1\n",
            "Epoch 1/10\n",
            "\u001b[1m1519/1519\u001b[0m \u001b[32m━━━━━━━━━━━━━━━━━━━━\u001b[0m\u001b[37m\u001b[0m \u001b[1m4s\u001b[0m 2ms/step - accuracy: 0.7140 - loss: 0.8979 - val_accuracy: 0.9124 - val_loss: 0.3058\n",
            "Epoch 2/10\n",
            "\u001b[1m1519/1519\u001b[0m \u001b[32m━━━━━━━━━━━━━━━━━━━━\u001b[0m\u001b[37m\u001b[0m \u001b[1m4s\u001b[0m 3ms/step - accuracy: 0.9131 - loss: 0.3055 - val_accuracy: 0.9185 - val_loss: 0.2770\n",
            "Epoch 3/10\n",
            "\u001b[1m1519/1519\u001b[0m \u001b[32m━━━━━━━━━━━━━━━━━━━━\u001b[0m\u001b[37m\u001b[0m \u001b[1m5s\u001b[0m 2ms/step - accuracy: 0.9229 - loss: 0.2733 - val_accuracy: 0.9226 - val_loss: 0.2617\n",
            "Epoch 4/10\n",
            "\u001b[1m1519/1519\u001b[0m \u001b[32m━━━━━━━━━━━━━━━━━━━━\u001b[0m\u001b[37m\u001b[0m \u001b[1m3s\u001b[0m 2ms/step - accuracy: 0.9260 - loss: 0.2613 - val_accuracy: 0.9328 - val_loss: 0.2435\n",
            "Epoch 5/10\n",
            "\u001b[1m1519/1519\u001b[0m \u001b[32m━━━━━━━━━━━━━━━━━━━━\u001b[0m\u001b[37m\u001b[0m \u001b[1m4s\u001b[0m 2ms/step - accuracy: 0.9317 - loss: 0.2453 - val_accuracy: 0.9309 - val_loss: 0.2408\n",
            "Epoch 6/10\n",
            "\u001b[1m1519/1519\u001b[0m \u001b[32m━━━━━━━━━━━━━━━━━━━━\u001b[0m\u001b[37m\u001b[0m \u001b[1m5s\u001b[0m 2ms/step - accuracy: 0.9314 - loss: 0.2404 - val_accuracy: 0.9343 - val_loss: 0.2395\n",
            "Epoch 7/10\n",
            "\u001b[1m1519/1519\u001b[0m \u001b[32m━━━━━━━━━━━━━━━━━━━━\u001b[0m\u001b[37m\u001b[0m \u001b[1m5s\u001b[0m 2ms/step - accuracy: 0.9360 - loss: 0.2322 - val_accuracy: 0.9341 - val_loss: 0.2382\n",
            "Epoch 8/10\n",
            "\u001b[1m1519/1519\u001b[0m \u001b[32m━━━━━━━━━━━━━━━━━━━━\u001b[0m\u001b[37m\u001b[0m \u001b[1m4s\u001b[0m 3ms/step - accuracy: 0.9361 - loss: 0.2291 - val_accuracy: 0.9315 - val_loss: 0.2381\n",
            "Epoch 9/10\n",
            "\u001b[1m1519/1519\u001b[0m \u001b[32m━━━━━━━━━━━━━━━━━━━━\u001b[0m\u001b[37m\u001b[0m \u001b[1m4s\u001b[0m 2ms/step - accuracy: 0.9370 - loss: 0.2239 - val_accuracy: 0.9344 - val_loss: 0.2293\n",
            "Epoch 10/10\n",
            "\u001b[1m1519/1519\u001b[0m \u001b[32m━━━━━━━━━━━━━━━━━━━━\u001b[0m\u001b[37m\u001b[0m \u001b[1m3s\u001b[0m 2ms/step - accuracy: 0.9377 - loss: 0.2226 - val_accuracy: 0.9343 - val_loss: 0.2315\n",
            "\u001b[1m313/313\u001b[0m \u001b[32m━━━━━━━━━━━━━━━━━━━━\u001b[0m\u001b[37m\u001b[0m \u001b[1m1s\u001b[0m 2ms/step - accuracy: 0.9202 - loss: 0.2633\n",
            "0.9312000274658203\n",
            "Архитектура сети 2\n",
            "Epoch 1/10\n",
            "\u001b[1m1519/1519\u001b[0m \u001b[32m━━━━━━━━━━━━━━━━━━━━\u001b[0m\u001b[37m\u001b[0m \u001b[1m4s\u001b[0m 2ms/step - accuracy: 0.8354 - loss: 0.5892 - val_accuracy: 0.9483 - val_loss: 0.1900\n",
            "Epoch 2/10\n",
            "\u001b[1m1519/1519\u001b[0m \u001b[32m━━━━━━━━━━━━━━━━━━━━\u001b[0m\u001b[37m\u001b[0m \u001b[1m5s\u001b[0m 2ms/step - accuracy: 0.9462 - loss: 0.1900 - val_accuracy: 0.9522 - val_loss: 0.1651\n",
            "Epoch 3/10\n",
            "\u001b[1m1519/1519\u001b[0m \u001b[32m━━━━━━━━━━━━━━━━━━━━\u001b[0m\u001b[37m\u001b[0m \u001b[1m6s\u001b[0m 2ms/step - accuracy: 0.9620 - loss: 0.1313 - val_accuracy: 0.9620 - val_loss: 0.1309\n",
            "Epoch 4/10\n",
            "\u001b[1m1519/1519\u001b[0m \u001b[32m━━━━━━━━━━━━━━━━━━━━\u001b[0m\u001b[37m\u001b[0m \u001b[1m5s\u001b[0m 2ms/step - accuracy: 0.9692 - loss: 0.1043 - val_accuracy: 0.9670 - val_loss: 0.1084\n",
            "Epoch 5/10\n",
            "\u001b[1m1519/1519\u001b[0m \u001b[32m━━━━━━━━━━━━━━━━━━━━\u001b[0m\u001b[37m\u001b[0m \u001b[1m4s\u001b[0m 2ms/step - accuracy: 0.9752 - loss: 0.0831 - val_accuracy: 0.9669 - val_loss: 0.1039\n",
            "Epoch 6/10\n",
            "\u001b[1m1519/1519\u001b[0m \u001b[32m━━━━━━━━━━━━━━━━━━━━\u001b[0m\u001b[37m\u001b[0m \u001b[1m5s\u001b[0m 2ms/step - accuracy: 0.9806 - loss: 0.0676 - val_accuracy: 0.9678 - val_loss: 0.1008\n",
            "Epoch 7/10\n",
            "\u001b[1m1519/1519\u001b[0m \u001b[32m━━━━━━━━━━━━━━━━━━━━\u001b[0m\u001b[37m\u001b[0m \u001b[1m5s\u001b[0m 2ms/step - accuracy: 0.9818 - loss: 0.0604 - val_accuracy: 0.9698 - val_loss: 0.0975\n",
            "Epoch 8/10\n",
            "\u001b[1m1519/1519\u001b[0m \u001b[32m━━━━━━━━━━━━━━━━━━━━\u001b[0m\u001b[37m\u001b[0m \u001b[1m4s\u001b[0m 3ms/step - accuracy: 0.9843 - loss: 0.0528 - val_accuracy: 0.9702 - val_loss: 0.0957\n",
            "Epoch 9/10\n",
            "\u001b[1m1519/1519\u001b[0m \u001b[32m━━━━━━━━━━━━━━━━━━━━\u001b[0m\u001b[37m\u001b[0m \u001b[1m3s\u001b[0m 2ms/step - accuracy: 0.9872 - loss: 0.0426 - val_accuracy: 0.9728 - val_loss: 0.0950\n",
            "Epoch 10/10\n",
            "\u001b[1m1519/1519\u001b[0m \u001b[32m━━━━━━━━━━━━━━━━━━━━\u001b[0m\u001b[37m\u001b[0m \u001b[1m3s\u001b[0m 2ms/step - accuracy: 0.9894 - loss: 0.0387 - val_accuracy: 0.9706 - val_loss: 0.1041\n",
            "\u001b[1m313/313\u001b[0m \u001b[32m━━━━━━━━━━━━━━━━━━━━\u001b[0m\u001b[37m\u001b[0m \u001b[1m1s\u001b[0m 2ms/step - accuracy: 0.9701 - loss: 0.1035\n",
            "0.9735000133514404\n",
            "Архитектура сети 3\n",
            "Epoch 1/10\n",
            "\u001b[1m1519/1519\u001b[0m \u001b[32m━━━━━━━━━━━━━━━━━━━━\u001b[0m\u001b[37m\u001b[0m \u001b[1m6s\u001b[0m 3ms/step - accuracy: 0.8293 - loss: 0.5802 - val_accuracy: 0.9502 - val_loss: 0.1741\n",
            "Epoch 2/10\n",
            "\u001b[1m1519/1519\u001b[0m \u001b[32m━━━━━━━━━━━━━━━━━━━━\u001b[0m\u001b[37m\u001b[0m \u001b[1m4s\u001b[0m 2ms/step - accuracy: 0.9518 - loss: 0.1591 - val_accuracy: 0.9561 - val_loss: 0.1471\n",
            "Epoch 3/10\n",
            "\u001b[1m1519/1519\u001b[0m \u001b[32m━━━━━━━━━━━━━━━━━━━━\u001b[0m\u001b[37m\u001b[0m \u001b[1m5s\u001b[0m 3ms/step - accuracy: 0.9650 - loss: 0.1140 - val_accuracy: 0.9631 - val_loss: 0.1241\n",
            "Epoch 4/10\n",
            "\u001b[1m1519/1519\u001b[0m \u001b[32m━━━━━━━━━━━━━━━━━━━━\u001b[0m\u001b[37m\u001b[0m \u001b[1m4s\u001b[0m 3ms/step - accuracy: 0.9731 - loss: 0.0896 - val_accuracy: 0.9678 - val_loss: 0.1065\n",
            "Epoch 5/10\n",
            "\u001b[1m1519/1519\u001b[0m \u001b[32m━━━━━━━━━━━━━━━━━━━━\u001b[0m\u001b[37m\u001b[0m \u001b[1m4s\u001b[0m 2ms/step - accuracy: 0.9771 - loss: 0.0731 - val_accuracy: 0.9659 - val_loss: 0.1151\n",
            "Epoch 6/10\n",
            "\u001b[1m1519/1519\u001b[0m \u001b[32m━━━━━━━━━━━━━━━━━━━━\u001b[0m\u001b[37m\u001b[0m \u001b[1m4s\u001b[0m 2ms/step - accuracy: 0.9819 - loss: 0.0590 - val_accuracy: 0.9704 - val_loss: 0.0962\n",
            "Epoch 7/10\n",
            "\u001b[1m1519/1519\u001b[0m \u001b[32m━━━━━━━━━━━━━━━━━━━━\u001b[0m\u001b[37m\u001b[0m \u001b[1m5s\u001b[0m 2ms/step - accuracy: 0.9829 - loss: 0.0534 - val_accuracy: 0.9665 - val_loss: 0.1089\n",
            "Epoch 8/10\n",
            "\u001b[1m1519/1519\u001b[0m \u001b[32m━━━━━━━━━━━━━━━━━━━━\u001b[0m\u001b[37m\u001b[0m \u001b[1m5s\u001b[0m 2ms/step - accuracy: 0.9869 - loss: 0.0434 - val_accuracy: 0.9691 - val_loss: 0.1086\n",
            "Epoch 9/10\n",
            "\u001b[1m1519/1519\u001b[0m \u001b[32m━━━━━━━━━━━━━━━━━━━━\u001b[0m\u001b[37m\u001b[0m \u001b[1m4s\u001b[0m 3ms/step - accuracy: 0.9887 - loss: 0.0369 - val_accuracy: 0.9706 - val_loss: 0.1039\n",
            "Epoch 10/10\n",
            "\u001b[1m1519/1519\u001b[0m \u001b[32m━━━━━━━━━━━━━━━━━━━━\u001b[0m\u001b[37m\u001b[0m \u001b[1m4s\u001b[0m 2ms/step - accuracy: 0.9883 - loss: 0.0353 - val_accuracy: 0.9715 - val_loss: 0.1030\n",
            "\u001b[1m313/313\u001b[0m \u001b[32m━━━━━━━━━━━━━━━━━━━━\u001b[0m\u001b[37m\u001b[0m \u001b[1m1s\u001b[0m 2ms/step - accuracy: 0.9718 - loss: 0.1048\n",
            "0.9746000170707703\n"
          ]
        }
      ],
      "source": [
        "from sklearn.model_selection import train_test_split\n",
        "from tensorflow.keras.datasets import mnist\n",
        "from tensorflow.keras.models import Sequential\n",
        "from tensorflow.keras.layers import Dense\n",
        "from tensorflow.keras.utils import to_categorical\n",
        "\n",
        "# Загрузка данных MNIST\n",
        "(x_train, y_train), (x_test, y_test) = mnist.load_data()\n",
        "\n",
        "# Разделение обучающей выборки на обучающую и проверочную\n",
        "x_train, x_val, y_train, y_val = train_test_split(x_train, y_train, test_size=0.1, random_state=42)\n",
        "\n",
        "print(f\"Размер обучающей выборки: {x_train.shape[0]}\")\n",
        "print(f\"Размер проверочной выборки: {x_val.shape[0]}\")\n",
        "print(f\"Размер тестовой выборки: {x_test.shape[0]}\")\n",
        "\n",
        "# Преобразование данных\n",
        "x_train = x_train.reshape(x_train.shape[0], -1) / 255.0\n",
        "x_test = x_test.reshape(x_test.shape[0], -1) / 255.0\n",
        "y_train = to_categorical(y_train)\n",
        "y_test = to_categorical(y_test)\n",
        "\n",
        "# Архитектура сети 1\n",
        "print('Архитектура сети 1')\n",
        "model = Sequential()\n",
        "model.add(Dense(10, input_dim=784, activation='relu'))\n",
        "model.add(Dense(10, activation='softmax'))\n",
        "model.compile(loss='categorical_crossentropy', optimizer='adam', metrics=['accuracy'])\n",
        "\n",
        "model.fit(x_train, y_train, epochs=10, validation_split=0.1)\n",
        "_, test_acc = model.evaluate(x_test, y_test)\n",
        "print(test_acc)\n",
        "\n",
        "# Архитектура сети 2\n",
        "print('Архитектура сети 2')\n",
        "model2 = Sequential()\n",
        "model2.add(Dense(50, input_dim=784, activation='relu'))\n",
        "model2.add(Dense(10, activation='softmax'))\n",
        "model2.compile(loss='categorical_crossentropy', optimizer='adam', metrics=['accuracy'])\n",
        "\n",
        "model2.fit(x_train, y_train, epochs=10, validation_split=0.1)\n",
        "_, test_acc2 = model2.evaluate(x_test, y_test)\n",
        "print(test_acc2)\n",
        "\n",
        "# Архитектура сети 3\n",
        "print('Архитектура сети 3')\n",
        "model3 = Sequential()\n",
        "model3.add(Dense(50, input_dim=784, activation='relu'))\n",
        "model3.add(Dense(50, activation='relu'))\n",
        "model3.add(Dense(10, activation='softmax'))\n",
        "model3.compile(loss='categorical_crossentropy', optimizer='adam', metrics=['accuracy'])\n",
        "\n",
        "model3.fit(x_train, y_train, epochs=10, validation_split=0.1)\n",
        "_, test_acc3 = model3.evaluate(x_test, y_test)\n",
        "print(test_acc3)"
      ]
    },
    {
      "cell_type": "code",
      "source": [
        "from tensorflow.keras.layers import Conv2D, MaxPooling2D, Flatten\n",
        "from tensorflow.keras.datasets import fashion_mnist\n",
        "import numpy as np\n",
        "\n",
        "(x_train, y_train), (x_test, y_test) = fashion_mnist.load_data()\n",
        "x_train = x_train[:,:,:,np.newaxis] / 255.0\n",
        "x_test = x_test[:,:,:,np.newaxis] / 255.0\n",
        "y_train = to_categorical(y_train)\n",
        "y_test = to_categorical(y_test)\n",
        "\n",
        "# Архитектура сети 4\n",
        "print('Архитектура сети 4')\n",
        "model4 = Sequential()\n",
        "model4.add(Conv2D(filters=64, kernel_size=2, padding='same', activation='relu', input_shape=(28,28, 1)))\n",
        "model4.add(MaxPooling2D(pool_size=2))\n",
        "model4.add(Flatten())\n",
        "model4.add(Dense(10, activation='softmax'))\n",
        "model4.compile(loss='categorical_crossentropy', optimizer='adam', metrics=['accuracy'])\n",
        "model4.fit(x_train, y_train, epochs=10, validation_split=0.1)\n",
        "_, test_acc4 = model4.evaluate(x_test, y_test)\n",
        "print(test_acc4)"
      ],
      "metadata": {
        "colab": {
          "base_uri": "https://localhost:8080/"
        },
        "id": "gK4XU3xhkppr",
        "outputId": "e1684164-704e-4dd6-9775-aacb9b601be9"
      },
      "execution_count": 14,
      "outputs": [
        {
          "output_type": "stream",
          "name": "stdout",
          "text": [
            "Архитектура сети 4\n"
          ]
        },
        {
          "output_type": "stream",
          "name": "stderr",
          "text": [
            "/usr/local/lib/python3.11/dist-packages/keras/src/layers/convolutional/base_conv.py:107: UserWarning: Do not pass an `input_shape`/`input_dim` argument to a layer. When using Sequential models, prefer using an `Input(shape)` object as the first layer in the model instead.\n",
            "  super().__init__(activity_regularizer=activity_regularizer, **kwargs)\n"
          ]
        },
        {
          "output_type": "stream",
          "name": "stdout",
          "text": [
            "Epoch 1/10\n",
            "\u001b[1m1688/1688\u001b[0m \u001b[32m━━━━━━━━━━━━━━━━━━━━\u001b[0m\u001b[37m\u001b[0m \u001b[1m39s\u001b[0m 22ms/step - accuracy: 0.7956 - loss: 0.5828 - val_accuracy: 0.8768 - val_loss: 0.3509\n",
            "Epoch 2/10\n",
            "\u001b[1m1688/1688\u001b[0m \u001b[32m━━━━━━━━━━━━━━━━━━━━\u001b[0m\u001b[37m\u001b[0m \u001b[1m37s\u001b[0m 22ms/step - accuracy: 0.8873 - loss: 0.3207 - val_accuracy: 0.8925 - val_loss: 0.3008\n",
            "Epoch 3/10\n",
            "\u001b[1m1688/1688\u001b[0m \u001b[32m━━━━━━━━━━━━━━━━━━━━\u001b[0m\u001b[37m\u001b[0m \u001b[1m41s\u001b[0m 22ms/step - accuracy: 0.8998 - loss: 0.2838 - val_accuracy: 0.8945 - val_loss: 0.2908\n",
            "Epoch 4/10\n",
            "\u001b[1m1688/1688\u001b[0m \u001b[32m━━━━━━━━━━━━━━━━━━━━\u001b[0m\u001b[37m\u001b[0m \u001b[1m41s\u001b[0m 22ms/step - accuracy: 0.9066 - loss: 0.2623 - val_accuracy: 0.8978 - val_loss: 0.2898\n",
            "Epoch 5/10\n",
            "\u001b[1m1688/1688\u001b[0m \u001b[32m━━━━━━━━━━━━━━━━━━━━\u001b[0m\u001b[37m\u001b[0m \u001b[1m41s\u001b[0m 22ms/step - accuracy: 0.9099 - loss: 0.2482 - val_accuracy: 0.9035 - val_loss: 0.2719\n",
            "Epoch 6/10\n",
            "\u001b[1m1688/1688\u001b[0m \u001b[32m━━━━━━━━━━━━━━━━━━━━\u001b[0m\u001b[37m\u001b[0m \u001b[1m41s\u001b[0m 22ms/step - accuracy: 0.9181 - loss: 0.2261 - val_accuracy: 0.9025 - val_loss: 0.2663\n",
            "Epoch 7/10\n",
            "\u001b[1m1688/1688\u001b[0m \u001b[32m━━━━━━━━━━━━━━━━━━━━\u001b[0m\u001b[37m\u001b[0m \u001b[1m36s\u001b[0m 21ms/step - accuracy: 0.9211 - loss: 0.2191 - val_accuracy: 0.9077 - val_loss: 0.2661\n",
            "Epoch 8/10\n",
            "\u001b[1m1688/1688\u001b[0m \u001b[32m━━━━━━━━━━━━━━━━━━━━\u001b[0m\u001b[37m\u001b[0m \u001b[1m36s\u001b[0m 21ms/step - accuracy: 0.9265 - loss: 0.2030 - val_accuracy: 0.9077 - val_loss: 0.2630\n",
            "Epoch 9/10\n",
            "\u001b[1m1688/1688\u001b[0m \u001b[32m━━━━━━━━━━━━━━━━━━━━\u001b[0m\u001b[37m\u001b[0m \u001b[1m37s\u001b[0m 22ms/step - accuracy: 0.9311 - loss: 0.1947 - val_accuracy: 0.9107 - val_loss: 0.2645\n",
            "Epoch 10/10\n",
            "\u001b[1m1688/1688\u001b[0m \u001b[32m━━━━━━━━━━━━━━━━━━━━\u001b[0m\u001b[37m\u001b[0m \u001b[1m41s\u001b[0m 22ms/step - accuracy: 0.9361 - loss: 0.1796 - val_accuracy: 0.9088 - val_loss: 0.2677\n",
            "\u001b[1m313/313\u001b[0m \u001b[32m━━━━━━━━━━━━━━━━━━━━\u001b[0m\u001b[37m\u001b[0m \u001b[1m2s\u001b[0m 6ms/step - accuracy: 0.9039 - loss: 0.2798\n",
            "0.9035999774932861\n"
          ]
        }
      ]
    },
    {
      "cell_type": "markdown",
      "source": [
        "\n",
        "\n",
        "1.   Архитектура 3 оказалась самой точной.\n",
        "2.   Архитектуры можно улучшить путем увеличения размерности выходного пространства (Dense(n, input_dim=784, activation='relu'))\n",
        "\n",
        "\n"
      ],
      "metadata": {
        "id": "pfGx3mCLBJI_"
      }
    },
    {
      "cell_type": "code",
      "source": [
        "import numpy as np\n",
        "\n",
        "# Функция активации (логистический сигмоид)\n",
        "def sigmoid(x):\n",
        "    return 1 / (1 + np.exp(-x))\n",
        "\n",
        "# Производная сигмоида\n",
        "def sigmoid_derivative(x):\n",
        "    return sigmoid(x) * (1 - sigmoid(x))\n",
        "\n",
        "# Параметры\n",
        "X = np.array([0.4, -0.8, 0.2]) # Входной вектор\n",
        "W1 = np.array([[0.1, -0.2, 0.05], [-0.05, 0.25, -0.1], [0.2, -0.1, 0.3]]) # Матрица синапсов 1 слоя\n",
        "W2 = np.array([[0.4, -0.7], [1.2, 0.6], [0.1, 0.5]]) # Матрица синапсов 2 слоя + убрана [-1.4, 0.5] т.к. матрица 3х2\n",
        "Y = np.array([0.5, 0.3]) # Эталонный выход\n",
        "learning_rate = 0.25 # Скорость обучения\n",
        "\n",
        "# Прямое распространение\n",
        "net_h = np.dot(X, W1)\n",
        "out_h = sigmoid(net_h)\n",
        "\n",
        "net_o = np.dot(out_h, W2)\n",
        "out_o = sigmoid(net_o)\n",
        "\n",
        "# Вычисление ошибки\n",
        "error = Y - out_o\n",
        "\n",
        "# Обратное распространение\n",
        "delta_o = error * sigmoid_derivative(net_o)\n",
        "delta_h = np.dot(delta_o, W2.T) * sigmoid_derivative(net_h)\n",
        "\n",
        "# Обновление весов\n",
        "W2 = W2 + learning_rate * np.outer(out_h, delta_o) #Используем outer для корректного произведения векторов\n",
        "W1 = W1 + learning_rate * np.outer(X, delta_h) #Используем outer для корректного произведения векторов\n",
        "\n",
        "# Вывод результатов\n",
        "print(\"Выход сети:\", out_o)\n",
        "print(\"Ошибка:\", error)\n",
        "print(\"Обновленная матрица весов W1:\\n\", W1)\n",
        "print(\"Обновленная матрица весов W2:\\n\", W2)\n"
      ],
      "metadata": {
        "colab": {
          "base_uri": "https://localhost:8080/"
        },
        "id": "0cChG7z44Om2",
        "outputId": "6f4487ce-49e0-4436-ee7b-88d09ca233be"
      },
      "execution_count": 11,
      "outputs": [
        {
          "output_type": "stream",
          "name": "stdout",
          "text": [
            "Выход сети: [0.68495682 0.5385029 ]\n",
            "Ошибка: [-0.18495682 -0.2385029 ]\n",
            "Обновленная матрица весов W1:\n",
            " [[ 0.10063585 -0.20204019  0.04916468]\n",
            " [-0.0512717   0.25408039 -0.09832935]\n",
            " [ 0.20031793 -0.1010201   0.29958234]]\n",
            "Обновленная матрица весов W2:\n",
            " [[ 0.39471202 -0.70785303]\n",
            " [ 1.19575379  0.59369407]\n",
            " [ 0.09461273  0.49199952]]\n"
          ]
        }
      ]
    }
  ]
}